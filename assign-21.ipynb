{
 "cells": [
  {
   "cell_type": "markdown",
   "id": "8cc06715",
   "metadata": {},
   "source": [
    "# 1. Add the current date to the text file today.txt as a string."
   ]
  },
  {
   "cell_type": "code",
   "execution_count": 1,
   "id": "631c2729",
   "metadata": {},
   "outputs": [
    {
     "data": {
      "text/plain": [
       "'file-2022-02-08.txt'"
      ]
     },
     "execution_count": 1,
     "metadata": {},
     "output_type": "execute_result"
    }
   ],
   "source": [
    "from datetime import date\n",
    "\n",
    "def get_file ():\n",
    "    today_string ='file-' +str(date.today()) + \".txt\"\n",
    "    return today_string\n",
    "get_file()\n"
   ]
  },
  {
   "cell_type": "markdown",
   "id": "0bc5d519",
   "metadata": {},
   "source": [
    "# 2. Read the text file today.txt into the string today_string"
   ]
  },
  {
   "cell_type": "code",
   "execution_count": null,
   "id": "80cf5707",
   "metadata": {},
   "outputs": [],
   "source": [
    "file = open('today.txt', 'r')\n",
    "\n"
   ]
  },
  {
   "cell_type": "markdown",
   "id": "50e6951f",
   "metadata": {},
   "source": [
    "# 3. Parse the date from today_string."
   ]
  },
  {
   "cell_type": "code",
   "execution_count": 7,
   "id": "e5801a2e",
   "metadata": {},
   "outputs": [
    {
     "name": "stdout",
     "output_type": "stream",
     "text": [
      "2022-02-08 00:00:00\n"
     ]
    }
   ],
   "source": [
    "from datetime import datetime\n",
    "\n",
    "today_string = '08/02/22'\n",
    "date = datetime.strptime(today_string,'%d/%m/%y')\n",
    "print(date)\n"
   ]
  },
  {
   "cell_type": "markdown",
   "id": "6bb0ec24",
   "metadata": {},
   "source": [
    "# 4. List the files in your current directory"
   ]
  },
  {
   "cell_type": "code",
   "execution_count": 8,
   "id": "fad61af6",
   "metadata": {},
   "outputs": [
    {
     "name": "stdout",
     "output_type": "stream",
     "text": [
      "['.ipynb_checkpoints', 'assign-10.ipynb', 'assign-11.ipynb', 'assign-12.ipynb', 'assign-13.ipynb', 'assign-16.ipynb', 'assign-17.ipynb', 'assign-18.ipynb', 'assign-19.ipynb', 'assign-2.ipynb', 'assign-20.ipynb', 'assign-21.ipynb', 'assign-3.ipynb', 'assign-4.ipynb', 'assign-5.ipynb', 'assign-6.ipynb', 'assign-9.ipynb', 'assin-1.ipynb', 'book.csv', 'book.db', 'books.db', 'countries.csv', 'cv.pdf', 'originalDataset.csv', 'Rajneesh -Application Developer__Available..pdf', 'Rajneesh -Application Developer__Available.pdf', 'test.txt', 'test1.txt', 'Untitled.ipynb', 'wwwwwees6246732290798388624.pdf', 'zoo.py', '__pycache__']\n"
     ]
    }
   ],
   "source": [
    "import os\n",
    "\n",
    "list_of_files =os.listdir('.')\n",
    "print(list_of_files)"
   ]
  },
  {
   "cell_type": "code",
   "execution_count": null,
   "id": "58e7bf6e",
   "metadata": {},
   "outputs": [],
   "source": [
    "5. Create a list of all of the files in your parent directory (minimum five files should be available)."
   ]
  },
  {
   "cell_type": "code",
   "execution_count": 9,
   "id": "aba8b61a",
   "metadata": {},
   "outputs": [
    {
     "data": {
      "text/plain": [
       "'C:\\\\Users\\\\RAJNEESH BHARTI\\\\Desktop\\\\ineouron\\\\assign'"
      ]
     },
     "execution_count": 9,
     "metadata": {},
     "output_type": "execute_result"
    }
   ],
   "source": [
    "pwd"
   ]
  },
  {
   "cell_type": "code",
   "execution_count": 10,
   "id": "b807e4b2",
   "metadata": {},
   "outputs": [
    {
     "name": "stdout",
     "output_type": "stream",
     "text": [
      "files in dir: C:\\Users\\RAJNEESH BHARTI\\Desktop\\ineouron\\assign  : \n",
      "['.ipynb_checkpoints', 'assign-10.ipynb', 'assign-11.ipynb', 'assign-12.ipynb', 'assign-13.ipynb', 'assign-16.ipynb', 'assign-17.ipynb', 'assign-18.ipynb', 'assign-19.ipynb', 'assign-2.ipynb', 'assign-20.ipynb', 'assign-21.ipynb', 'assign-3.ipynb', 'assign-4.ipynb', 'assign-5.ipynb', 'assign-6.ipynb', 'assign-9.ipynb', 'assin-1.ipynb', 'book.csv', 'book.db', 'books.db', 'countries.csv', 'cv.pdf', 'originalDataset.csv', 'Rajneesh -Application Developer__Available..pdf', 'Rajneesh -Application Developer__Available.pdf', 'test.txt', 'test1.txt', 'Untitled.ipynb', 'wwwwwees6246732290798388624.pdf', 'zoo.py', '__pycache__']\n"
     ]
    }
   ],
   "source": [
    "path = 'C:\\\\Users\\\\RAJNEESH BHARTI\\\\Desktop\\\\ineouron\\\\assign'\n",
    "list_of_allFiles= os.listdir(path)\n",
    "\n",
    "print('files in dir:' , path, ' : ')\n",
    "print(list_of_allFiles)"
   ]
  },
  {
   "cell_type": "markdown",
   "id": "c41210d2",
   "metadata": {},
   "source": [
    "# 6. Use multiprocessing to create three separate processes. Make each one wait a random number of seconds between one and five, print the current time, and then exit."
   ]
  },
  {
   "cell_type": "code",
   "execution_count": null,
   "id": "3abb6aa3",
   "metadata": {},
   "outputs": [],
   "source": []
  },
  {
   "cell_type": "code",
   "execution_count": null,
   "id": "179d1928",
   "metadata": {},
   "outputs": [],
   "source": [
    "# birthday = input(\"Enter your date of birth: \",)\n",
    "# day, month, year = birthday.split(\"/\")\n",
    "# day = birthday[:birthday.find(\"/\")]\n",
    "# month = birthday[birthday.find(\"/\")+1:birthday.rfind(\"/\")]\n",
    "# year = birthday[birthday.rfind(\"/\")+1:]\n",
    "# print(day)"
   ]
  },
  {
   "cell_type": "markdown",
   "id": "906a9ec7",
   "metadata": {},
   "source": [
    "# 7. Create a date object of your day of birth."
   ]
  },
  {
   "cell_type": "code",
   "execution_count": 9,
   "id": "1b2dd197",
   "metadata": {},
   "outputs": [
    {
     "name": "stdout",
     "output_type": "stream",
     "text": [
      "Enter your date of birth: 18 04 1995\n"
     ]
    }
   ],
   "source": [
    "date = input(\"Enter your date of birth: \",)"
   ]
  },
  {
   "cell_type": "markdown",
   "id": "fae335b0",
   "metadata": {},
   "source": [
    "# 8. What day of the week was your day of birth?"
   ]
  },
  {
   "cell_type": "code",
   "execution_count": 11,
   "id": "68b82057",
   "metadata": {},
   "outputs": [
    {
     "name": "stdout",
     "output_type": "stream",
     "text": [
      "Tuesday\n"
     ]
    }
   ],
   "source": [
    "import calendar\n",
    "import datetime\n",
    " \n",
    "def findDay(date):\n",
    "    born = datetime.datetime.strptime(date, '%d %m %Y').weekday()\n",
    "    return (calendar.day_name[born])\n",
    " \n",
    "# Driver program\n",
    "\n",
    "print(findDay(date))"
   ]
  },
  {
   "cell_type": "markdown",
   "id": "e6825e6c",
   "metadata": {},
   "source": [
    "# 9. When will you be (or when were you) 10,000 days old?"
   ]
  },
  {
   "cell_type": "code",
   "execution_count": null,
   "id": "241b4e2e",
   "metadata": {},
   "outputs": [],
   "source": [
    "N"
   ]
  }
 ],
 "metadata": {
  "kernelspec": {
   "display_name": "Python 3",
   "language": "python",
   "name": "python3"
  },
  "language_info": {
   "codemirror_mode": {
    "name": "ipython",
    "version": 3
   },
   "file_extension": ".py",
   "mimetype": "text/x-python",
   "name": "python",
   "nbconvert_exporter": "python",
   "pygments_lexer": "ipython3",
   "version": "3.8.8"
  }
 },
 "nbformat": 4,
 "nbformat_minor": 5
}
